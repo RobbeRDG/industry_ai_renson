{
 "cells": [
  {
   "cell_type": "code",
   "execution_count": 31,
   "metadata": {},
   "outputs": [],
   "source": [
    "# Imports \n",
    "import pandas as pd\n",
    "from datetime import datetime\n",
    "from datetime import timedelta\n",
    "import numpy as np"
   ]
  },
  {
   "cell_type": "code",
   "execution_count": 32,
   "metadata": {},
   "outputs": [
    {
     "data": {
      "text/html": [
       "<div>\n",
       "<style scoped>\n",
       "    .dataframe tbody tr th:only-of-type {\n",
       "        vertical-align: middle;\n",
       "    }\n",
       "\n",
       "    .dataframe tbody tr th {\n",
       "        vertical-align: top;\n",
       "    }\n",
       "\n",
       "    .dataframe thead th {\n",
       "        text-align: right;\n",
       "    }\n",
       "</style>\n",
       "<table border=\"1\" class=\"dataframe\">\n",
       "  <thead>\n",
       "    <tr style=\"text-align: right;\">\n",
       "      <th></th>\n",
       "      <th>date</th>\n",
       "      <th>time</th>\n",
       "      <th>total</th>\n",
       "    </tr>\n",
       "  </thead>\n",
       "  <tbody>\n",
       "    <tr>\n",
       "      <th>0</th>\n",
       "      <td>2022-02-21</td>\n",
       "      <td>11:55:39</td>\n",
       "      <td>0</td>\n",
       "    </tr>\n",
       "    <tr>\n",
       "      <th>1</th>\n",
       "      <td>2022-02-21</td>\n",
       "      <td>12:59:57</td>\n",
       "      <td>0</td>\n",
       "    </tr>\n",
       "    <tr>\n",
       "      <th>2</th>\n",
       "      <td>2022-02-21</td>\n",
       "      <td>13:05:11</td>\n",
       "      <td>0</td>\n",
       "    </tr>\n",
       "    <tr>\n",
       "      <th>3</th>\n",
       "      <td>2022-02-21</td>\n",
       "      <td>13:22:18</td>\n",
       "      <td>0</td>\n",
       "    </tr>\n",
       "    <tr>\n",
       "      <th>4</th>\n",
       "      <td>2022-02-21</td>\n",
       "      <td>14:24:21</td>\n",
       "      <td>0</td>\n",
       "    </tr>\n",
       "    <tr>\n",
       "      <th>5</th>\n",
       "      <td>2022-02-21</td>\n",
       "      <td>14:27:51</td>\n",
       "      <td>0</td>\n",
       "    </tr>\n",
       "  </tbody>\n",
       "</table>\n",
       "</div>"
      ],
      "text/plain": [
       "         date      time  total\n",
       "0  2022-02-21  11:55:39      0\n",
       "1  2022-02-21  12:59:57      0\n",
       "2  2022-02-21  13:05:11      0\n",
       "3  2022-02-21  13:22:18      0\n",
       "4  2022-02-21  14:24:21      0\n",
       "5  2022-02-21  14:27:51      0"
      ]
     },
     "execution_count": 32,
     "metadata": {},
     "output_type": "execute_result"
    }
   ],
   "source": [
    "# Read in the occupancy csv file for each room\n",
    "bathroom_occupancy = pd.read_csv('occupancy/bathroom-occupancy_labels.csv', delimiter=';', skiprows=[1])\n",
    "bedroom_child_occupancy = pd.read_csv('occupancy/bedroom_child-occupancy_labels.csv', delimiter=';', skiprows=[1])\n",
    "bedroom_parents_occupancy = pd.read_csv('occupancy/bedroom_parents-occupancy_labels.csv', delimiter=';', skiprows=[1])\n",
    "hallway_occupancy = pd.read_csv('occupancy/hallway-occupancy_labels.csv', delimiter=';', skiprows=[1])\n",
    "office_occupancy = pd.read_csv('occupancy/office-occupancy_labels.csv', delimiter=';', skiprows=[1])\n",
    "\n",
    "# Place in one big dict\n",
    "occupancy_dataframes = {\n",
    "    'bathroom_occupancy': bathroom_occupancy,\n",
    "    'bedroom_child_occupancy': bedroom_child_occupancy,\n",
    "    'bedroom_parents_occupancy': bedroom_parents_occupancy,\n",
    "    'hallway_occupancy': hallway_occupancy,\n",
    "    'office_occupancy': office_occupancy\n",
    "}\n",
    "\n",
    "# Print an example sample of the data\n",
    "bathroom_occupancy.head(6)\n"
   ]
  },
  {
   "cell_type": "code",
   "execution_count": 33,
   "metadata": {},
   "outputs": [
    {
     "name": "stdout",
     "output_type": "stream",
     "text": [
      "False\n",
      "False\n",
      "False\n",
      "False\n",
      "False\n"
     ]
    }
   ],
   "source": [
    "# Check for NAN's\n",
    "print(bathroom_occupancy.isnull().values.any())\n",
    "print(bedroom_child_occupancy.isnull().values.any())\n",
    "print(bedroom_parents_occupancy.isnull().values.any())\n",
    "print(hallway_occupancy.isnull().values.any())\n",
    "print(office_occupancy.isnull().values.any())\n"
   ]
  },
  {
   "cell_type": "code",
   "execution_count": 34,
   "metadata": {},
   "outputs": [],
   "source": [
    "# Function to upsample and bin the timeseries data\n",
    "def bin_occupancy_data(raw_data, bin_size):\n",
    "    # First sort the occupancy data by date and time\n",
    "    raw_data.sort_values(by=[\"date\", \"time\"], ascending=[False, False])\n",
    "\n",
    "    # Add a datetime column and make it the index\n",
    "    raw_data['datetime'] = raw_data['date'] + ' ' + raw_data['time']\n",
    "    raw_data['datetime'] = pd.to_datetime(raw_data['datetime'], format = '%Y-%m-%d %H:%M:%S')\n",
    "    raw_data.set_index('datetime', drop=False, inplace=True)\n",
    "\n",
    "    # Upsample the time series\n",
    "    binned_data = raw_data.resample(bin_size)\n",
    "\n",
    "    # Set for each bin the total persons in the room to the latest measurement\n",
    "    # Fill the NAN's in the bins with the values of the last valid bin\n",
    "    binned_data = binned_data.agg({'total':'last'}).ffill()\n",
    "\n",
    "    # Since we only care if the room is used, the amount of persons is irrelevant\n",
    "    binned_data.loc[(binned_data['total'] > 1), 'total'] = 1\n",
    "\n",
    "    # Repair the date and time column since the ffill made these values incorrect\n",
    "    binned_data['datetime'] = binned_data.index\n",
    "    binned_data['time'] = binned_data['datetime'].dt.time\n",
    "    binned_data['date'] = binned_data['datetime'].dt.date\n",
    "\n",
    "    return binned_data"
   ]
  },
  {
   "cell_type": "code",
   "execution_count": 35,
   "metadata": {},
   "outputs": [],
   "source": [
    "# For each dataframe\n",
    "for dataframe_name, dataframe in occupancy_dataframes.items():\n",
    "    # Bin the data\n",
    "    binned_data = bin_occupancy_data(dataframe, '10Min')\n",
    "\n",
    "    # Save the bins as csv's\n",
    "    binned_data.to_csv(f'binned_occupancy/{dataframe_name}_binned.csv', index=False)"
   ]
  },
  {
   "cell_type": "code",
   "execution_count": 36,
   "metadata": {},
   "outputs": [],
   "source": [
    "# For each dataframe\n",
    "for dataframe_name, dataframe in occupancy_dataframes.items():\n",
    "    # Bin the data\n",
    "    binned_data = bin_occupancy_data(dataframe, '10Min')\n",
    "\n",
    "    # Group the data by time bin and take the sum of the total values\n",
    "    binned_and_summed_data = binned_data.groupby('time')['total'].sum()\n",
    "\n",
    "    # Save the sums as csv's\n",
    "    binned_and_summed_data.to_csv(f'binned_and_summed_occupancy/{dataframe_name}_binned_and_summed.csv', index=True)"
   ]
  }
 ],
 "metadata": {
  "kernelspec": {
   "display_name": "Python 3.9.2 64-bit",
   "language": "python",
   "name": "python3"
  },
  "language_info": {
   "codemirror_mode": {
    "name": "ipython",
    "version": 3
   },
   "file_extension": ".py",
   "mimetype": "text/x-python",
   "name": "python",
   "nbconvert_exporter": "python",
   "pygments_lexer": "ipython3",
   "version": "3.10.6"
  },
  "orig_nbformat": 4,
  "vscode": {
   "interpreter": {
    "hash": "31f2aee4e71d21fbe5cf8b01ff0e069b9275f58929596ceb00d14d90e3e16cd6"
   }
  }
 },
 "nbformat": 4,
 "nbformat_minor": 2
}
